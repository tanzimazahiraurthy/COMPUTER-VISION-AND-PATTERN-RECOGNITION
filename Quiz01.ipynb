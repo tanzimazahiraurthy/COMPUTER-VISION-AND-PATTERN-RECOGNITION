{
 "cells": [
  {
   "cell_type": "code",
   "execution_count": 12,
   "id": "e221b915",
   "metadata": {},
   "outputs": [],
   "source": [
    "import numpy as np\n",
    "import matplotlib.pyplot as plt\n",
    "%matplotlib inline\n",
    "\n",
    "def spirals(n_points, noise=.5):\n",
    "    n = np.sqrt(np.random.rand(n_points,1)) * 200 * (2*np.pi)/180\n",
    "    d1x = -np.cos(n)*n + np.random.rand(n_points,1) * noise\n",
    "    d1y = np.sin(n)*n + np.random.rand(n_points,1) * noise\n",
    "    return (np.vstack((np.hstack((d1x,d1y)),np.hstack((-d1x,-d1y)))), \n",
    "            np.hstack((np.zeros(n_points),np.ones(n_points))))"
   ]
  },
  {
   "cell_type": "code",
   "execution_count": 13,
   "id": "ece4e648",
   "metadata": {},
   "outputs": [
    {
     "data": {
      "image/png": "[encoded data removed]",
      "text/plain": [
       "<Figure size 432x288 with 1 Axes>"
      ]
     },
     "metadata": {
      "needs_background": "light"
     },
     "output_type": "display_data"
    }
   ],
   "source": [
    "X, Y = spirals(100)\n",
    "\n",
    "plt.title('train')\n",
    "plt.plot(X[Y==0,0], X[Y==0,1], '.', label='A')\n",
    "plt.plot(X[Y==1,0], X[Y==1,1], '.', label='B')\n",
    "plt.legend()\n",
    "plt.show()\n",
    "import numpy as np\n",
    "import matplotlib.pyplot as plt\n",
    "%matplotlib inline"
   ]
  },
  {
   "cell_type": "code",
   "execution_count": 14,
   "id": "7efe2e86",
   "metadata": {},
   "outputs": [],
   "source": [
    "def spirals(n_points, noise=.5):\n",
    "    n = np.sqrt(np.random.rand(n_points,1)) * 200 * (2*np.pi)/180\n",
    "    d1x = -np.cos(n)*n + np.random.rand(n_points,1) * noise\n",
    "    d1y = np.sin(n)*n + np.random.rand(n_points,1) * noise\n",
    "    return (np.vstack((np.hstack((d1x,d1y)),np.hstack((-d1x,-d1y)))), \n",
    "            np.hstack((np.zeros(n_points),np.ones(n_points))))"
   ]
  },
  {
   "cell_type": "code",
   "execution_count": 15,
   "id": "5583a030",
   "metadata": {},
   "outputs": [
    {
     "data": {
      "image/png": "[encoded data removed]",
      "text/plain": [
       "<Figure size 432x288 with 1 Axes>"
      ]
     },
     "metadata": {
      "needs_background": "light"
     },
     "output_type": "display_data"
    }
   ],
   "source": [
    "X, Y = spirals(100)\n",
    "\n",
    "plt.title('train')\n",
    "plt.plot(X[Y==0,0], X[Y==0,1], '.', label='A')\n",
    "plt.plot(X[Y==1,0], X[Y==1,1], '.', label='B')\n",
    "plt.legend()\n",
    "plt.show()"
   ]
  },
  {
   "cell_type": "code",
   "execution_count": 16,
   "id": "178c0bef",
   "metadata": {},
   "outputs": [
    {
     "name": "stdout",
     "output_type": "stream",
     "text": [
      "red apple\n",
      "\n",
      "red pant\n",
      "\n",
      "red juice\n",
      "\n",
      "green apple\n",
      "\n",
      "green pant\n",
      "\n",
      "green juice\n",
      "\n",
      "blue apple\n",
      "\n",
      "blue pant\n",
      "\n",
      "blue juice\n",
      "\n"
     ]
    }
   ],
   "source": [
    "color=[\"red\",\"green\",\"blue\"]\n",
    "items=[\"apple\",\"pant\",\"juice\"]\n",
    "\n",
    "for x in color:\n",
    "    for y in items:\n",
    "        print(x,y)\n",
    "        print('')"
   ]
  },
  {
   "cell_type": "code",
   "execution_count": 17,
   "id": "649b1340",
   "metadata": {},
   "outputs": [],
   "source": [
    "class NeuralNetwork_Tanh(object):\n",
    "    def __init__(self):\n",
    "        inputLayerNeurons = 2\n",
    "        hiddenLayerNeurons = 10\n",
    "        outLayerNeurons = 1\n",
    "        \n",
    "        self.learning_rate = 0.2\n",
    "        self.W_HI = np.random.randn(inputLayerNeurons, hiddenLayerNeurons)\n",
    "        self.W_OH = np.random.randn(hiddenLayerNeurons, outLayerNeurons)\n",
    "        \n",
    "    def tanh(self, x, der=False):\n",
    "        if der == True:\n",
    "            return 1-x**2\n",
    "        else:\n",
    "            return (np.exp(2*x) - 1) / (np.exp(2*x) + 1)\n",
    "        \n",
    "    def feedForward(self, X):\n",
    "        hidden_input = np.dot(X, self.W_HI)\n",
    "        self.hidden_output = self.tanh(hidden_input)\n",
    "        \n",
    "        output_input = np.dot(self.hidden_output, self.W_OH)\n",
    "        pred = self.tanh(output_input)\n",
    "        return pred\n",
    "        \n",
    "    def backPropagation(self, X, Y, pred):\n",
    "        output_error = Y - pred\n",
    "        output_delta = self.learning_rate * output_error * self.tanh(pred, der=True)\n",
    "        \n",
    "        hidden_error = output_delta.dot(self.W_OH.T)\n",
    "        hidden_delta = self.learning_rate * hidden_error * self.tanh(self.hidden_output, der=True)\n",
    "        \n",
    "        self.W_HI += X.T.dot(hidden_delta)\n",
    "        self.W_OH += self.hidden_output.T.dot(output_delta)\n",
    "        \n",
    "    def train(self, X, Y):\n",
    "        output = self.feedForward(X)\n",
    "        self.backPropagation(X,Y,output)"
   ]
  },
  {
   "cell_type": "code",
   "execution_count": 18,
   "id": "e0e704f2",
   "metadata": {},
   "outputs": [
    {
     "data": {
      "text/plain": [
       "[<matplotlib.lines.Line2D at 0x1dbbe332160>]"
      ]
     },
     "execution_count": 18,
     "metadata": {},
     "output_type": "execute_result"
    },
    {
     "data": {
      "image/png": "[encoded data removed]",
      "text/plain": [
       "<Figure size 432x288 with 1 Axes>"
      ]
     },
     "metadata": {
      "needs_background": "light"
     },
     "output_type": "display_data"
    }
   ],
   "source": [
    "NN = NeuralNetwork_Tanh()\n",
    "\n",
    "err = []\n",
    "for i in range(10000):\n",
    "    #NN.train(X,Y)\n",
    "     err.append(np.mean(np.square(Y - NN.feedForward(X))))\n",
    "\n",
    "plt.plot(err)"
   ]
  },
  {
   "cell_type": "code",
   "execution_count": null,
   "id": "6807fa7f",
   "metadata": {},
   "outputs": [],
   "source": []
  }
 ],
 "metadata": {
  "kernelspec": {
   "display_name": "Python 3 (ipykernel)",
   "language": "python",
   "name": "python3"
  },
  "language_info": {
   "codemirror_mode": {
    "name": "ipython",
    "version": 3
   },
   "file_extension": ".py",
   "mimetype": "text/x-python",
   "name": "python",
   "nbconvert_exporter": "python",
   "pygments_lexer": "ipython3",
   "version": "3.9.7"
  }
 },
 "nbformat": 4,
 "nbformat_minor": 5
}
